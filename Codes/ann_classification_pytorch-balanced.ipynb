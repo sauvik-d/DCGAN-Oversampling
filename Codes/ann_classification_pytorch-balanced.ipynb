{
 "cells": [
  {
   "cell_type": "code",
   "execution_count": 1,
   "metadata": {
    "id": "BlTHEc7x68XI"
   },
   "outputs": [],
   "source": [
    "import torch\n",
    "import torch.nn as nn\n",
    "import torch.optim as optim\n",
    "from torch.utils.data import DataLoader\n",
    "from torchvision import datasets, transforms\n",
    "from sklearn.metrics import classification_report, precision_score, recall_score, f1_score, accuracy_score, confusion_matrix, ConfusionMatrixDisplay, roc_curve, roc_auc_score\n",
    "import matplotlib.pyplot as plt\n",
    "import os"
   ]
  },
  {
   "cell_type": "code",
   "execution_count": 2,
   "metadata": {},
   "outputs": [],
   "source": [
    "import time\n",
    "def _time(start, end): \n",
    "    # if in seconds \n",
    "    if (end-start)<60: \n",
    "        wall_time = f'{round((end-start),2)}sec'\n",
    "    # if in minute(s)  \n",
    "    elif (end-start)>=3600: \n",
    "        wall_time = f'{int((end-start)/3600)}h {int(((end-start)%3600)/60)}min {round((end-start)%60,2)}sec'\n",
    "    # if in houre(s)  \n",
    "    else: \n",
    "        wall_time = f'{int((end-start)/60)}min {round((end-start)%60,2)}sec'\n",
    "    return wall_time"
   ]
  },
  {
   "cell_type": "code",
   "execution_count": 3,
   "metadata": {},
   "outputs": [],
   "source": [
    "data_dir = \"D:/github/archive/chest_xray/balanced\"\n",
    "batch_size = 32\n",
    "image_size = 128  # or 256\n",
    "\n",
    "# Transform with resizing and normalization\n",
    "data_transforms = {\n",
    "    'train': transforms.Compose([\n",
    "        transforms.Resize((image_size, image_size)),\n",
    "        transforms.Grayscale(num_output_channels=1),\n",
    "        transforms.ToTensor(),\n",
    "        transforms.Normalize([0.5], [0.5])\n",
    "    ]),\n",
    "    'val': transforms.Compose([\n",
    "        transforms.Resize((image_size, image_size)),\n",
    "        transforms.Grayscale(num_output_channels=1),\n",
    "        transforms.ToTensor(),\n",
    "        transforms.Normalize([0.5], [0.5])\n",
    "    ]),\n",
    "    'test': transforms.Compose([\n",
    "        transforms.Resize((image_size, image_size)),\n",
    "        transforms.Grayscale(num_output_channels=1),\n",
    "        transforms.ToTensor(),\n",
    "        transforms.Normalize([0.5], [0.5])\n",
    "    ])\n",
    "}\n"
   ]
  },
  {
   "cell_type": "code",
   "execution_count": 4,
   "metadata": {},
   "outputs": [],
   "source": [
    "datasets_dict = {x: datasets.ImageFolder(os.path.join(data_dir, x), transform=data_transforms[x])\n",
    "                 for x in ['train', 'val', 'test']}\n",
    "\n",
    "dataloaders = {x: DataLoader(datasets_dict[x], batch_size=batch_size, shuffle=True)\n",
    "               for x in ['train', 'val', 'test']}\n",
    "\n",
    "class_names = datasets_dict['train'].classes"
   ]
  },
  {
   "cell_type": "code",
   "execution_count": 5,
   "metadata": {
    "id": "j9H-DzJc7HRq"
   },
   "outputs": [],
   "source": [
    "class ANN(nn.Module):\n",
    "    def __init__(self):\n",
    "        super(ANN, self).__init__()\n",
    "        self.fc = nn.Sequential(\n",
    "            nn.Flatten(),\n",
    "            nn.Linear(128*128, 512),\n",
    "            nn.ReLU(),\n",
    "            nn.Dropout(0.3),\n",
    "            nn.Linear(512, 128),\n",
    "            nn.ReLU(),\n",
    "            nn.Dropout(0.3),\n",
    "            nn.Linear(128, 2)\n",
    "        )\n",
    "\n",
    "    def forward(self, x):\n",
    "        return self.fc(x)\n"
   ]
  },
  {
   "cell_type": "code",
   "execution_count": 6,
   "metadata": {
    "id": "1PM8hcDP7H6i"
   },
   "outputs": [],
   "source": [
    "device = torch.device(\"cuda\" if torch.cuda.is_available() else \"cpu\")\n",
    "\n",
    "model = ANN().to(device)\n",
    "criterion = nn.CrossEntropyLoss()\n",
    "optimizer = optim.Adam(model.parameters(), lr=0.001)\n"
   ]
  },
  {
   "cell_type": "code",
   "execution_count": 7,
   "metadata": {
    "colab": {
     "base_uri": "https://localhost:8080/"
    },
    "id": "o3ffl7Ek7Ocm",
    "outputId": "f938a50e-c3ea-4835-c557-f29aed69e2af"
   },
   "outputs": [
    {
     "name": "stdout",
     "output_type": "stream",
     "text": [
      "Epoch 1, Loss: 64.0133, Accuracy: 89.79%\n",
      "Hey! the calculations are done in 2min 0.56sec\n",
      "Epoch 2, Loss: 35.7095, Accuracy: 94.50%\n",
      "Hey! the calculations are done in 1min 6.88sec\n",
      "Epoch 3, Loss: 30.1039, Accuracy: 95.52%\n",
      "Hey! the calculations are done in 1min 3.76sec\n",
      "Epoch 4, Loss: 24.5959, Accuracy: 96.45%\n",
      "Hey! the calculations are done in 1min 4.08sec\n",
      "Epoch 5, Loss: 19.3132, Accuracy: 96.88%\n",
      "Hey! the calculations are done in 1min 3.68sec\n",
      "Epoch 6, Loss: 20.9089, Accuracy: 97.05%\n",
      "Hey! the calculations are done in 1min 5.15sec\n",
      "Epoch 7, Loss: 20.6076, Accuracy: 96.92%\n",
      "Hey! the calculations are done in 1min 5.28sec\n",
      "Epoch 8, Loss: 17.9991, Accuracy: 97.42%\n",
      "Hey! the calculations are done in 1min 8.82sec\n",
      "Epoch 9, Loss: 17.0346, Accuracy: 97.54%\n",
      "Hey! the calculations are done in 1min 8.42sec\n",
      "Epoch 10, Loss: 16.4367, Accuracy: 97.49%\n",
      "Hey! the calculations are done in 1min 7.84sec\n",
      "Epoch 11, Loss: 14.0149, Accuracy: 97.80%\n",
      "Hey! the calculations are done in 1min 5.2sec\n",
      "Epoch 12, Loss: 13.6061, Accuracy: 98.03%\n",
      "Hey! the calculations are done in 1min 7.31sec\n",
      "Epoch 13, Loss: 12.7198, Accuracy: 98.16%\n",
      "Hey! the calculations are done in 1min 11.86sec\n",
      "Epoch 14, Loss: 10.8768, Accuracy: 98.34%\n",
      "Hey! the calculations are done in 1min 10.1sec\n",
      "Epoch 15, Loss: 12.7460, Accuracy: 97.97%\n",
      "Hey! the calculations are done in 1min 10.87sec\n",
      "Epoch 16, Loss: 11.5894, Accuracy: 98.32%\n",
      "Hey! the calculations are done in 1min 10.93sec\n",
      "Epoch 17, Loss: 11.0209, Accuracy: 98.46%\n",
      "Hey! the calculations are done in 1min 10.19sec\n",
      "Epoch 18, Loss: 15.1131, Accuracy: 97.86%\n",
      "Hey! the calculations are done in 1min 10.79sec\n",
      "Epoch 19, Loss: 10.9254, Accuracy: 98.17%\n",
      "Hey! the calculations are done in 1min 9.72sec\n",
      "Epoch 20, Loss: 9.9086, Accuracy: 98.56%\n",
      "Hey! the calculations are done in 1min 2.71sec\n",
      "Epoch 21, Loss: 8.4027, Accuracy: 98.67%\n",
      "Hey! the calculations are done in 1min 4.63sec\n",
      "Epoch 22, Loss: 9.5212, Accuracy: 98.68%\n",
      "Hey! the calculations are done in 1min 7.99sec\n",
      "Epoch 23, Loss: 8.4449, Accuracy: 98.60%\n",
      "Hey! the calculations are done in 1min 8.84sec\n",
      "Epoch 24, Loss: 7.4627, Accuracy: 98.85%\n",
      "Hey! the calculations are done in 1min 7.56sec\n",
      "Epoch 25, Loss: 7.1763, Accuracy: 98.90%\n",
      "Hey! the calculations are done in 1min 12.2sec\n",
      "Epoch 26, Loss: 10.1583, Accuracy: 98.51%\n",
      "Hey! the calculations are done in 1min 9.75sec\n",
      "Epoch 27, Loss: 11.6950, Accuracy: 98.42%\n",
      "Hey! the calculations are done in 1min 14.23sec\n",
      "Epoch 28, Loss: 7.6228, Accuracy: 98.87%\n",
      "Hey! the calculations are done in 1min 14.55sec\n",
      "Epoch 29, Loss: 7.9828, Accuracy: 98.85%\n",
      "Hey! the calculations are done in 1min 15.55sec\n",
      "Epoch 30, Loss: 7.8474, Accuracy: 98.86%\n",
      "Hey! the calculations are done in 1min 3.99sec\n",
      "Epoch 31, Loss: 6.7345, Accuracy: 98.94%\n",
      "Hey! the calculations are done in 59.82sec\n",
      "Epoch 32, Loss: 7.4447, Accuracy: 98.98%\n",
      "Hey! the calculations are done in 1min 0.07sec\n",
      "Epoch 33, Loss: 7.3634, Accuracy: 98.89%\n",
      "Hey! the calculations are done in 58.22sec\n",
      "Epoch 34, Loss: 6.4056, Accuracy: 99.18%\n",
      "Hey! the calculations are done in 59.23sec\n",
      "Epoch 35, Loss: 7.2587, Accuracy: 98.94%\n",
      "Hey! the calculations are done in 57.51sec\n",
      "Epoch 36, Loss: 8.2792, Accuracy: 98.99%\n",
      "Hey! the calculations are done in 1min 1.61sec\n",
      "Epoch 37, Loss: 9.5518, Accuracy: 98.77%\n",
      "Hey! the calculations are done in 57.47sec\n",
      "Epoch 38, Loss: 7.1517, Accuracy: 99.00%\n",
      "Hey! the calculations are done in 57.23sec\n",
      "Epoch 39, Loss: 6.6165, Accuracy: 99.08%\n",
      "Hey! the calculations are done in 57.45sec\n",
      "Epoch 40, Loss: 6.2703, Accuracy: 99.03%\n",
      "Hey! the calculations are done in 57.98sec\n",
      "Epoch 41, Loss: 6.7796, Accuracy: 99.02%\n",
      "Hey! the calculations are done in 56.35sec\n",
      "Epoch 42, Loss: 4.4794, Accuracy: 99.40%\n",
      "Hey! the calculations are done in 59.25sec\n",
      "Epoch 43, Loss: 5.2513, Accuracy: 99.33%\n",
      "Hey! the calculations are done in 57.81sec\n",
      "Epoch 44, Loss: 4.3633, Accuracy: 99.44%\n",
      "Hey! the calculations are done in 58.85sec\n",
      "Epoch 45, Loss: 5.5665, Accuracy: 99.18%\n",
      "Hey! the calculations are done in 59.48sec\n",
      "Epoch 46, Loss: 5.8290, Accuracy: 99.22%\n",
      "Hey! the calculations are done in 1min 6.44sec\n",
      "Epoch 47, Loss: 7.1084, Accuracy: 99.09%\n",
      "Hey! the calculations are done in 1min 6.47sec\n",
      "Epoch 48, Loss: 7.1640, Accuracy: 98.91%\n",
      "Hey! the calculations are done in 1min 5.45sec\n",
      "Epoch 49, Loss: 4.1230, Accuracy: 99.49%\n",
      "Hey! the calculations are done in 1min 5.36sec\n",
      "Epoch 50, Loss: 6.0025, Accuracy: 99.08%\n",
      "Hey! the calculations are done in 1min 6.67sec\n"
     ]
    }
   ],
   "source": [
    "loss_train = []\n",
    "acc_train = []\n",
    "for epoch in range(50):\n",
    "    model.train()\n",
    "    running_loss = 0.0\n",
    "    correct = 0\n",
    "    total = 0\n",
    "    \n",
    "    start = time.time()\n",
    "    temp_loss = 0\n",
    "    for inputs, labels in dataloaders['train']:\n",
    "        inputs, labels = inputs.to(device), labels.to(device)\n",
    "        \n",
    "        optimizer.zero_grad()\n",
    "        outputs = model(inputs)\n",
    "        loss = criterion(outputs, labels)\n",
    "        loss.backward()\n",
    "        optimizer.step()\n",
    "        temp_loss = loss.detach().cpu().item()\n",
    "        running_loss += loss.item()\n",
    "        _, preds = torch.max(outputs, 1)\n",
    "        correct += (preds == labels).sum().item()\n",
    "        total += labels.size(0)\n",
    "\n",
    "    acc = 100 * correct / total\n",
    "    acc_train.append(acc)\n",
    "    loss_train.append(temp_loss)\n",
    "    print(f\"Epoch {epoch+1}, Loss: {running_loss:.4f}, Accuracy: {acc:.2f}%\")\n",
    "    print(f\"Hey! the calculations are done in {_time(start, time.time())}\")\n"
   ]
  },
  {
   "cell_type": "code",
   "execution_count": 8,
   "metadata": {
    "id": "tt7eBAF67SNO"
   },
   "outputs": [
    {
     "name": "stdout",
     "output_type": "stream",
     "text": [
      "Test Accuracy: 78.04%\n",
      "Hey! the calculations are done in 10.65sec\n"
     ]
    }
   ],
   "source": [
    "correct = 0\n",
    "total = 0\n",
    "start = time.time()\n",
    "loss_test = []\n",
    "all_labels = []\n",
    "all_preds = []\n",
    "all_probs = []\n",
    "\n",
    "\n",
    "with torch.no_grad():\n",
    "    for inputs, labels in dataloaders['test']:\n",
    "        inputs, labels = inputs.to(device), labels.to(device)\n",
    "        outputs = model(inputs)\n",
    "        loss = criterion(outputs, labels)\n",
    "        loss_test.append(loss.detach().cpu().item())\n",
    "        _, preds = torch.max(outputs, 1)\n",
    "        correct += (preds == labels).sum().item()\n",
    "        total += labels.size(0)\n",
    "        all_labels.extend(labels.cpu().numpy())\n",
    "        all_preds.extend(preds.cpu().numpy())\n",
    "\n",
    "        # Store probabilities for ROC-AUC curve (assuming binary classification)\n",
    "        all_probs.extend(torch.nn.functional.softmax(outputs, dim=1)[:, 1].cpu().numpy())\n",
    "\n",
    "print(f\"Test Accuracy: {100 * correct / total:.2f}%\")\n",
    "print(f\"Hey! the calculations are done in {_time(start, time.time())}\")"
   ]
  },
  {
   "cell_type": "code",
   "execution_count": 9,
   "metadata": {},
   "outputs": [
    {
     "name": "stdout",
     "output_type": "stream",
     "text": [
      "Precision: 0.8135\n",
      "Recall: 0.7804\n",
      "F1-score: 0.7575\n"
     ]
    },
    {
     "data": {
      "image/png": "[encoded data removed]",
      "text/plain": [
       "<Figure size 640x480 with 1 Axes>"
      ]
     },
     "metadata": {},
     "output_type": "display_data"
    },
    {
     "name": "stdout",
     "output_type": "stream",
     "text": [
      "ROC-AUC Score: 0.8569\n"
     ]
    }
   ],
   "source": [
    "\n",
    "# Compute Precision, Recall, F1-score\n",
    "precision = precision_score(all_labels, all_preds, average='weighted')\n",
    "recall = recall_score(all_labels, all_preds, average='weighted')\n",
    "f1 = f1_score(all_labels, all_preds, average='weighted')\n",
    "\n",
    "print(f\"Precision: {precision:.4f}\")\n",
    "print(f\"Recall: {recall:.4f}\")\n",
    "print(f\"F1-score: {f1:.4f}\")\n",
    "\n",
    "# Compute ROC-AUC Curve\n",
    "fpr, tpr, _ = roc_curve(all_labels, all_probs)\n",
    "roc_auc = roc_auc_score(all_labels, all_probs)\n",
    "\n",
    "# Plot ROC Curve\n",
    "plt.figure()\n",
    "plt.plot(fpr, tpr, label=f'ROC curve (area = {roc_auc:.4f})')\n",
    "plt.plot([0, 1], [0, 1], 'k--')  # Diagonal line\n",
    "plt.xlabel('False Positive Rate')\n",
    "plt.ylabel('True Positive Rate')\n",
    "plt.title('ROC Curve')\n",
    "plt.legend(loc=\"lower right\")\n",
    "plt.show()\n",
    "\n",
    "print(f\"ROC-AUC Score: {roc_auc:.4f}\")"
   ]
  },
  {
   "cell_type": "code",
   "execution_count": 10,
   "metadata": {
    "id": "Qodr1G9J8NkR"
   },
   "outputs": [
    {
     "data": {
      "text/plain": [
       "<sklearn.metrics._plot.confusion_matrix.ConfusionMatrixDisplay at 0x15199a99550>"
      ]
     },
     "execution_count": 10,
     "metadata": {},
     "output_type": "execute_result"
    },
    {
     "data": {
      "image/png": "[encoded data removed]",
      "text/plain": [
       "<Figure size 640x480 with 2 Axes>"
      ]
     },
     "metadata": {},
     "output_type": "display_data"
    }
   ],
   "source": [
    "Categories = ['Normal', 'Pneumonia']\n",
    "cm = confusion_matrix(all_labels, all_preds)\n",
    "ConfusionMatrixDisplay(confusion_matrix=cm, display_labels=Categories).plot()"
   ]
  },
  {
   "cell_type": "code",
   "execution_count": 11,
   "metadata": {},
   "outputs": [],
   "source": [
    "from sklearn.metrics import classification_report"
   ]
  },
  {
   "cell_type": "code",
   "execution_count": 12,
   "metadata": {
    "id": "nPoX52qDS4Nz"
   },
   "outputs": [
    {
     "name": "stdout",
     "output_type": "stream",
     "text": [
      "              precision    recall  f1-score   support\n",
      "\n",
      "      Normal       0.92      0.45      0.61       234\n",
      "   Pneumonia       0.75      0.98      0.85       390\n",
      "\n",
      "    accuracy                           0.78       624\n",
      "   macro avg       0.84      0.71      0.73       624\n",
      "weighted avg       0.81      0.78      0.76       624\n",
      "\n"
     ]
    }
   ],
   "source": [
    "print(classification_report(all_labels, all_preds, target_names=Categories))"
   ]
  },
  {
   "cell_type": "code",
   "execution_count": 13,
   "metadata": {},
   "outputs": [],
   "source": [
    "import numpy as np\n",
    "np.save('ann+gan_pred.npy', all_probs)"
   ]
  },
  {
   "cell_type": "code",
   "execution_count": 15,
   "metadata": {},
   "outputs": [],
   "source": [
    "np.save('labels_ann_balance', all_labels)"
   ]
  },
  {
   "cell_type": "code",
   "execution_count": null,
   "metadata": {},
   "outputs": [],
   "source": []
  }
 ],
 "metadata": {
  "accelerator": "GPU",
  "colab": {
   "gpuType": "T4",
   "provenance": []
  },
  "kernelspec": {
   "display_name": "Python 3 (ipykernel)",
   "language": "python",
   "name": "python3"
  },
  "language_info": {
   "codemirror_mode": {
    "name": "ipython",
    "version": 3
   },
   "file_extension": ".py",
   "mimetype": "text/x-python",
   "name": "python",
   "nbconvert_exporter": "python",
   "pygments_lexer": "ipython3",
   "version": "3.12.4"
  }
 },
 "nbformat": 4,
 "nbformat_minor": 4
}
